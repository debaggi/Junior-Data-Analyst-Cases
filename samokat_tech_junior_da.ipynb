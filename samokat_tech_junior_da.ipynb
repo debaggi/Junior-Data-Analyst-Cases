{
  "nbformat": 4,
  "nbformat_minor": 0,
  "metadata": {
    "colab": {
      "private_outputs": true,
      "provenance": [],
      "authorship_tag": "ABX9TyP4JcaO4yCH+RWfq8gJwMCZ",
      "include_colab_link": true
    },
    "kernelspec": {
      "name": "python3",
      "display_name": "Python 3"
    },
    "language_info": {
      "name": "python"
    }
  },
  "cells": [
    {
      "cell_type": "markdown",
      "metadata": {
        "id": "view-in-github",
        "colab_type": "text"
      },
      "source": [
        "<a href=\"https://colab.research.google.com/github/debaggi/Junior-Data-Analyst-Cases/blob/main/samokat_tech_junior_da.ipynb\" target=\"_parent\"><img src=\"https://colab.research.google.com/assets/colab-badge.svg\" alt=\"Open In Colab\"/></a>"
      ]
    },
    {
      "cell_type": "markdown",
      "source": [
        "Привет!\n",
        "\n",
        "Всего 3 задания\n",
        "\n",
        "----------\n",
        "1 задание\n",
        "----------\n",
        "\n",
        "Нужно на основе приложенных выгрузок сделать отчет в Power BI и отправить файл .pbix\n",
        "(если файл не влезает в почту - положи его на гугл диск и пошарить ссылкой)\n",
        "Обратно слать выгрузки не нужно.\n",
        "\n",
        "Требования к отчету - представь, что это все данные, которые вообще есть и ты делаешь первый в компании отчет.\n",
        "Твоя задача выжать из этих выгрузок максимум пользы.\n",
        "Какие показатели посчитать, какие визуализации выбрать и как организовать отчет - твой выбор.\n",
        "\n",
        "Выгрузки:\n",
        "- warehouses\n",
        "- products\n",
        "- orders\n",
        "- order_lines\n",
        "\n",
        "В выгрузках рандомные данные, но стоит воспринимать их как фактические.\n",
        "Всю обработку нужно делать внутри Power BI - исходные файлы оставь как есть.\n",
        "\n",
        "Бонус:\n",
        "Если найдешь что-то интересное (аномалии, тренды, зависимости, etc.) - оформи свои мысли в ворде,\n",
        "сопроводив скринами визуализаций из Power BI и отправь файл .docx\n",
        "Если хочется сделать в формате презентации или описать внутри Power BI - тоже гуд."
      ],
      "metadata": {
        "id": "3IeylohRgmTV"
      }
    },
    {
      "cell_type": "markdown",
      "source": [
        "https://pavelbukhtik.notion.site/21d3e6b006284d189514e517d74fa369"
      ],
      "metadata": {
        "id": "cO4uyJveladQ"
      }
    },
    {
      "cell_type": "code",
      "execution_count": null,
      "metadata": {
        "id": "ksTSIqL5ghPu"
      },
      "outputs": [],
      "source": [
        "import pandas as pd"
      ]
    },
    {
      "cell_type": "code",
      "source": [
        "from  google.colab import drive\n",
        "drive.mount('/content/drive')"
      ],
      "metadata": {
        "id": "BPK03goigtYM"
      },
      "execution_count": null,
      "outputs": []
    },
    {
      "cell_type": "code",
      "source": [
        "orders = pd.read_csv('/content/drive/MyDrive/Technical Interview/Samokat Tech Data Analytics: Jun.Grade/datasets/orders.csv')\n",
        "# orders = orders.set_index('warehouse_id')"
      ],
      "metadata": {
        "id": "tNNcc7fJpELF"
      },
      "execution_count": null,
      "outputs": []
    },
    {
      "cell_type": "code",
      "source": [
        "warehouses = pd.read_csv('/content/drive/MyDrive/Technical Interview/Samokat Tech Data Analytics: Jun.Grade/datasets/warehouses.csv')"
      ],
      "metadata": {
        "id": "nUC9ggdSmM8y"
      },
      "execution_count": null,
      "outputs": []
    },
    {
      "cell_type": "code",
      "source": [
        "print('Orders data')\n",
        "display(orders.head(3))\n",
        "\n",
        "print('\\nWarehouses data')\n",
        "display(warehouses.head(3))"
      ],
      "metadata": {
        "id": "jKtrXiF4mOle"
      },
      "execution_count": null,
      "outputs": []
    },
    {
      "cell_type": "markdown",
      "source": [
        "Цели:\n",
        "<!-- клиенты -->\n",
        "- определить количество заказов по каждому даркстору\n",
        "- определить топ-3 id клиентов, которые наиболее часто осущесвляют заказы\n",
        "<!-- дарксторы -->\n",
        "- определить наиболее и наименее часто используемые дарксторы\n",
        "- определить города, в которых расположены дарксторы из топ-3 дарксторов\n"
      ],
      "metadata": {
        "id": "bNZER5kJ4qYE"
      }
    },
    {
      "cell_type": "code",
      "source": [
        "# Внутреннее соединение таблицы orders и таблицы warehouses по атрибуту wirehouse_id\n",
        "warehouses_orders = pd.merge(orders, warehouses, on='warehouse_id', how='inner')\n",
        "warehouses_orders['order_date'] = pd.to_datetime(warehouses_orders['order_date'])\n",
        "\n",
        "print('Сгруппированная таблица заказов и таблица дарксторов по атрибуту wirehouse_id\\n')\n",
        "display(warehouses_orders.sort_values('warehouse_id').head(3))\n",
        "print(f'\\nКол-во записей в таблице: {len(warehouses_orders)}')"
      ],
      "metadata": {
        "id": "MN76H2I-4nvD"
      },
      "execution_count": null,
      "outputs": []
    },
    {
      "cell_type": "markdown",
      "source": [
        "# Загружаю датасеты в локальное хранилище\n",
        "\n",
        " - warehouses.xlsx\n",
        " - orders.xlsx\n",
        " - warehouses_orders.xlsx\n",
        " - warehouses_orders.csv"
      ],
      "metadata": {
        "id": "NM7zy973Uh6B"
      }
    },
    {
      "cell_type": "code",
      "source": [
        "# warehouses_orders.to_csv(('warehouses_orders.csv'))"
      ],
      "metadata": {
        "id": "a-e_bMMtUSSR"
      },
      "execution_count": null,
      "outputs": []
    },
    {
      "cell_type": "markdown",
      "source": [
        "# Исследование датасетов"
      ],
      "metadata": {
        "id": "lrGtqh2PU4Du"
      }
    },
    {
      "cell_type": "markdown",
      "source": [
        "## Дарксторы"
      ],
      "metadata": {
        "id": "lmN8WtIWitIV"
      }
    },
    {
      "cell_type": "markdown",
      "source": [
        "### Высоко- и низко- нагруженные дарксторы"
      ],
      "metadata": {
        "id": "qayJpXcTjgdd"
      }
    },
    {
      "cell_type": "code",
      "source": [
        "warehouses_orders_grouped = warehouses_orders.groupby('warehouse_id').agg(count_order=('order_id', 'count'))\n",
        "warehouses_orders_grouped = warehouses_orders_grouped.sort_values('count_order', ascending=False)\n",
        "display(warehouses_orders_grouped)"
      ],
      "metadata": {
        "id": "_ySzHsaudxte"
      },
      "execution_count": null,
      "outputs": []
    },
    {
      "cell_type": "code",
      "source": [
        "# вычисление суммарного числа заказов в разрезе дарксторов\n",
        "warehouses_top_3_max = list(warehouses_orders_grouped.iloc[:3].index.values)  # топ-3-winners дарксторов по числу заказов\n",
        "warehouses_top_3_min = list(warehouses_orders_grouped.iloc[-3:].index.values) # топ-3-losers дарксторов по числу заказов\n",
        "\n",
        "# вычисление суммарного числа заказов по всем дарксторам за все время\n",
        "total_sum_purchases = warehouses_orders_grouped['count_order'].sum(axis=0)\n",
        "\n",
        "# процент заказов, который приходится на даркстор\n",
        "warehouses_orders_grouped['percentage_orders'] = round(warehouses_orders_grouped['count_order'] / total_sum_purchases * 100, 2)\n",
        "warehouses_orders_grouped.to_excel('warehouses_orders.xlsx', sheet_name='warehouses_orders_grouped')\n",
        "\n",
        "\n",
        "print(f'Суммарное количество заказов по всем дарксторам сети за все время: {total_sum_purchases}')\n",
        "print('\\n')\n",
        "print('----------------------------------------------------')\n",
        "print(f'Дарксторы с максимальным числом заказов: {warehouses_top_3_max}')\n",
        "print(display(warehouses_orders_grouped.head(3)))\n",
        "print('\\n')\n",
        "print('----------------------------------------------------')\n",
        "print(f'Дарксторы с минимальным числом заказов: {warehouses_top_3_min}')\n",
        "print(display(warehouses_orders_grouped.tail(3)))\n",
        "print('----------------------------------------------------')"
      ],
      "metadata": {
        "id": "PWYnJtZzF12G"
      },
      "execution_count": null,
      "outputs": []
    },
    {
      "cell_type": "code",
      "source": [
        "# информация о топ-3 дарксторах по числу заказов за все время\n",
        "info_warehouses_top_3_max = warehouses[warehouses['warehouse_id'].isin(warehouses_top_3_max)]\n",
        "print('Сведения о дарксторах, на которые приходится максимальное число заказов')\n",
        "display(info_warehouses_top_3_max.set_index('warehouse_id'))\n",
        "print('--------------------------------------------------------\\n')\n",
        "\n",
        "info_warehouses_top_3_min = warehouses[warehouses['warehouse_id'].isin(warehouses_top_3_min)]\n",
        "print('Сведения о дарксторах, на которые приходится минимальное число заказов')\n",
        "display(info_warehouses_top_3_min.set_index('warehouse_id'))"
      ],
      "metadata": {
        "id": "Dy6dCSb0BI7j"
      },
      "execution_count": null,
      "outputs": []
    },
    {
      "cell_type": "markdown",
      "source": [
        "### Анализ клиентов"
      ],
      "metadata": {
        "id": "Kn4ANJYyLWHM"
      }
    },
    {
      "cell_type": "code",
      "source": [
        "# информация о топ-3 покупателях по числу заказов за все время\n",
        "top_3_clients = pd.DataFrame(warehouses_orders.groupby('user_id')['order_id'].agg('count'))\n",
        "top_3_clients  = top_3_clients.rename(columns={'order_id':'count_orders'})\n",
        "top_3_clients = top_3_clients.sort_values('count_orders', ascending=False)\n",
        "\n",
        "top_3_clients_id = list(top_3_clients.index[:3].values)\n",
        "\n",
        "display(top_3_clients.head(3))\n",
        "print(f'Клиенты, входящие к категорию топ-3 клиентов по числу заказов за все время: {top_3_clients_id}')"
      ],
      "metadata": {
        "id": "k7N3G4pK592L"
      },
      "execution_count": null,
      "outputs": []
    },
    {
      "cell_type": "markdown",
      "source": [
        "#### Исследование заказов всех клиентов"
      ],
      "metadata": {
        "id": "QSDe79Wole10"
      }
    },
    {
      "cell_type": "code",
      "source": [
        "order_lines = pd.read_csv('/content/drive/MyDrive/Technical Interview/Samokat Tech Data Analytics: Jun.Grade/datasets/Order Lines updated.csv')"
      ],
      "metadata": {
        "id": "QA1Df-Ybldgu"
      },
      "execution_count": null,
      "outputs": []
    },
    {
      "cell_type": "code",
      "source": [
        "# pd.unique(order_lines['price'])\n",
        "\n",
        "# ['110,25', '45\\xa0428,00', '39,00', '36,75', '171,75', '101,25',\n",
        "      #  ['96,75', '328,50', '119,25', '44,25', '14,25', '18,00', '29,25',\n",
        "      #  '39,75', '117,00', '21,75', '136,50', '33,75', '60,75', '68,25',\n",
        "      #  '139,50', '51,75', '168,00', '146,25', '111,75', '89,25', '18,75',\n",
        "      #  '129,75', '126,75', '37,50', '21,00', '183,00', '59,25', '71,25',\n",
        "      #  '43,50', '56,25', '73,50', '30,00', '27,00', '42,75', '164,25',\n",
        "      #  '30,75', '95,25', '118,50', '45\\xa0440,00', '179,25', '81,75',\n",
        "      #  '78,75', '66,75', '79,50', '54,00', '96,00', '141,75', '24,00',\n",
        "      #  '224,25', '26,25', '41,25', '51,00', '109,50', '63,75', '57,00',\n",
        "      #  '134,25', '46,50', '65,25', '45\\xa0434,00', '104,25', '24,75',\n",
        "      #  '45\\xa0443,00', '52,50', '74,25', '75,00', '45,00', '57,75',\n",
        "      #  '117,75', '93,00', '156,75', '270,75', '108,75', '45\\xa0425,00',\n",
        "      #  '94,50', '69,00', '12,75', '209,25', '82,50', '63,00', '66,00',\n",
        "      #  '40,50', '34,50', '128,25', '132,00', '123,00', '67,50', '49,50',\n",
        "      #  '64,50', '167,25', '116,25', '172,50', '108,00', '33,00', '144,00',\n",
        "      #  '87,75', '53,25', '42,00', '45\\xa0431,00', '155,25', '47,25',\n",
        "      #  '15,75', '81,00', '27,75', '91,50', '61,50', '153,75', '20,25',\n",
        "      #  '336,75', '216,75', '99,00', '36,00', '38,25', '17,25', '60,00',\n",
        "      #  '11,25', '123,75', '183,75', '76,50', '269,25', '62,25', '69,75',\n",
        "      #  '106,50', '127,50', '103,50', '80,25', '32,25', '55,50', '120,75',\n",
        "      #  '58,50', '98,25', '93,75', '45\\xa0437,00', '72,00', '72,75',\n",
        "      #  '48,75', '190,50', '210,00', '149,25', '105,75', '636,75', '45,75',\n",
        "      #  '87,00', '35,25', '284,25', '107,25', '158,25', '202,50', '140,25',\n",
        "      #  '204,00', '296,25', '144,75', '165,00', '9,75', '254,25', '145,50',\n",
        "      #  '12,00', '54,75', '92,25', '177,75', '207,00', '85,50', '100,50',\n",
        "      #  '160,50', '378,75', '177,00', '88,50', '70,50', '50,25', '48,00',\n",
        "      #  '246,75', '374,25', '84,75', '97,50', '644,25', '135,00', '84,00',\n",
        "      #  '124,50', '23,25', '113,25', '115,50', '45\\xa0422,00', '126,00',\n",
        "      #  '207,75', '154,50', '231,75', '199,50', '182,25', '125,25',\n",
        "      #  '203,25', '77,25', '78,00', '163,50', '201,75', '86,25', '186,75',\n",
        "      #  '194,25', '105,00', '122,25', '83,25', '75,75', '176,25', '171,00',\n",
        "      #  '152,25', '162,00', '111,00', '135,75', '270,00', '192,75',\n",
        "      #  '193,50', '138,75', '455,25', '137,25', '150,00', '156,00',\n",
        "      #  '150,75', '247,50', '273,75', '188,25', '218,25', '161,25',\n",
        "      #  '90,75', '243,00', '166,50', '90,00', '120,00', '102,75', '234,75',\n",
        "      #  '114,00', '114,75', '112,50', '235,50', '99,75', '170,25',\n",
        "      #  '174,00', '148,50', '245,25', '159,00', '180,75', '168,75',\n",
        "      #  '169,50', '1\\xa0094,25', '102,00', '187,50', '456,75', '477,75',\n",
        "      #  '15,00', '299,25', '524,25', '287,25', '173,25', '159,75',\n",
        "      #  '147,00', '129,00', '198,00', '142,50', '215,25', '8,25', '151,50',\n",
        "      #  '201,00', '130,50', '147,75', '234,00', '198,75', '297,00',\n",
        "      #  '133,50', '511,50', '824,25', '132,75', '261,75', '197,25',\n",
        "      #  '121,50', '195,75', '186,00', '244,50', '279,75', '1\\xa0019,25',\n",
        "      #  '141,00', '434,25', '711,75', '272,25', '131,25', '216,00',\n",
        "      #  '205,50', '458,25', '285,00', '480,00', '294,00', '180,00',\n",
        "      #  '213,75', '178,50', '192,00', '157,50', '219,00', '210,75',\n",
        "      #  '475,50', '249,75', '191,25', '195,00', '9,00', '6,75', '449,25',\n",
        "      #  '246,00', '579,75', '379,50', '189,00', '258,75', '143,25',\n",
        "      #  '226,50', '417,75', '326,25', '405,00', '367,50', '261,00',\n",
        "      #  '289,50', '5,25', '321,75', '222,00', '669,75', '353,25', '359,25',\n",
        "      #  '282,75', '262,50', '741,75', '196,50', '584,25', '1\\xa0118,25',\n",
        "      #  '225,00', '45\\xa0419,00', '162,75', '252,75', '239,25', '318,00',\n",
        "      #  '343,50', '242,25', '174,75', '314,25', '237,00', '318,75',\n",
        "      #  '189,75', '175,50', '185,25', '380,25', '355,50', '221,25',\n",
        "      #  '288,00', '206,25', '204,75', '474,75', '138,00', '237,75',\n",
        "      #  '181,50', '283,50', '346,50', '229,50', '266,25', '248,25',\n",
        "      #  '327,00', '561,75', '304,50', '281,25', '251,25', '217,50',\n",
        "      #  '256,50', '225,75', '582,00', '260,25', '267,00', '451,50',\n",
        "      #  '674,25', '249,00', '165,75', '612,00', '337,50', '447,75',\n",
        "      #  '253,50', '970,50', '411,75', '208,50', '252,00', '223,50',\n",
        "      #  '398,25', '433,50', '312,00', '294,75', '153,00', '263,25',\n",
        "      #  '756,00', '348,75', '666,00', '341,25', '345,75', '551,25',\n",
        "      #  '213,00', '381,75', '231,00', '582,75', '295,50', '219,75',\n",
        "      #  '276,00', '396,75', '228,75', '419,25', '441,75', '258,00',\n",
        "      #  '599,25', '200,25', '322,50', '388,50', '276,75', '431,25',\n",
        "      #  '321,00', '408,00', '277,50', '542,25', '504,75', '2\\xa0099,25',\n",
        "      #  '275,25', '310,50', '267,75', '660,00', '487,50', '538,50',\n",
        "      #  '483,00', '386,25', '397,50', '288,75', '211,50', '264,75',\n",
        "      #  '567,00', '390,75', '335,25', '292,50', '607,50', '471,75',\n",
        "      #  '330,00', '369,00', '1\\xa0274,25', '306,75', '606,75', '345,00',\n",
        "      #  '1\\xa0251,75', '364,50', '478,50', '438,00', '220,50', '363,00',\n",
        "      #  '366,00', '243,75', '573,75', '384,00', '259,50', '230,25',\n",
        "      #  '307,50', '319,50', '945,75', '631,50', '504,00', '603,00',\n",
        "      #  '303,75', '474,00', '214,50', '238,50', '615,00', '429,75',\n",
        "      #  '375,00', '426,75', '752,25', '444,00', '240,75', '971,25',\n",
        "      #  '495,00', '1\\xa0431,75', '212,25', '271,50', '435,00', '313,50',\n",
        "      #  '241,50', '573,00', '453,75', '464,25', '184,50', '468,75',\n",
        "      #  '232,50', '1\\xa0011,75', '454,50', '273,00', '342,00', '378,00',\n",
        "      #  '666,75', '994,50', '265,50', '549,75', '279,00', '1\\xa0038,00',\n",
        "      #  '257,25', '315,75', '354,00', '315,00', '702,75', '233,25',\n",
        "      #  '555,00', '308,25', '416,25', '339,75', '293,25', '373,50',\n",
        "      #  '618,75', '291,75', '974,25', '358,50', '347,25', '633,00',\n",
        "      #  '512,25', '406,50', '749,25', '227,25', '710,25', '1\\xa0337,25',\n",
        "      #  '899,25', '-152\\xa0184,00', '635,25', '408,75', '461,25', '255,75',\n",
        "      #  '637,50', '648,00', '572,25', '306,00', '522,00', '1\\xa0982,25',\n",
        "      #  '473,25', '554,25', '125\\xa0035,00', '6,00', '395,25', '411,00',\n",
        "      #  '432,00', '250,50', '556,50', '333,75', '324,75', '598,50',\n",
        "      #  '382,50', '562,50', '350,25', '588,75', '1\\xa0901,25', '442,50',\n",
        "      #  '592,50', '427,50', '605,25', '349,50', '936,75', '576,75',\n",
        "      #  '240,00', '601,50', '334,50', '301,50', '344,25', '865,50',\n",
        "      #  '278,25', '468,00', '410,25', '286,50', '356,25', '403,50',\n",
        "      #  '566,25', '264,00', '450,75', '329,25', '701,25', '228,00',\n",
        "      #  '16,50', '291,00', '290,25', '613,50', '1\\xa0043,25', '978,00',\n",
        "      #  '658,50', '325,50', '394,50', '904,50', '567,75', '722,25',\n",
        "      #  '493,50', '402,00', '807,00', '819,00', '274,50', '1\\xa0791,00',\n",
        "      #  '469,50', '494,25', '1\\xa0008,75', '734,25', '1\\xa0050,00',\n",
        "      #  '546,75', '1\\xa0359,00', '457,50', '630,75', '13,97', '714,75',\n",
        "      #  '732,00', '1\\xa0124,25', '486,75', '465,00', '742,50', '89,21',\n",
        "      #  '13,50'], dtype=object)"
      ],
      "metadata": {
        "id": "b71uhM9L6Iru"
      },
      "execution_count": null,
      "outputs": []
    },
    {
      "cell_type": "markdown",
      "source": [
        "#### Исследование заказов топ-3 клиентов"
      ],
      "metadata": {
        "id": "z6fNYZj1ll3V"
      }
    },
    {
      "cell_type": "code",
      "source": [
        "# Фильтрация датафрейма warehouses_orders по атрибуту user_id. Выбираю все заказы, сделанные клиентами из списка top_3_clients\n",
        "print('Сведения о заказах клиентов из категории топ-3')\n",
        "print('')\n",
        "\n",
        "info_orders_top_3_clients = warehouses_orders[warehouses_orders['user_id'].isin(top_3_clients_id)].set_index('user_id').copy()\n",
        "display(info_orders_top_3_clients)"
      ],
      "metadata": {
        "id": "liLuLTp27pTq"
      },
      "execution_count": null,
      "outputs": []
    },
    {
      "cell_type": "code",
      "source": [
        "order_id_top_3_clients = info_orders_top_3_clients['order_id']\n",
        "\n",
        "# идентификаторы клиентов из категории топ-3\n",
        "clients_id_top_3 = list(pd.unique(top_3_clients.index[:3]))\n",
        "\n",
        "orders_by_client_197929 = info_orders_top_3_clients[info_orders_top_3_clients.index==clients_id_top_3[0]].sort_values('order_date', ascending=True)\n",
        "orders_by_client_1498904 = info_orders_top_3_clients[info_orders_top_3_clients.index==clients_id_top_3[1]].sort_values('order_date', ascending=True)\n",
        "orders_by_client_1491889 = info_orders_top_3_clients[info_orders_top_3_clients.index==clients_id_top_3 [2]].sort_values('order_date', ascending=True)\n",
        "\n",
        "print('Заказы клиента с id 197929')\n",
        "display(orders_by_client_197929.head(3))\n",
        "print('-------------------------------\\n')\n",
        "print('Заказы клиента с id 1498904')\n",
        "display(orders_by_client_1498904.head(3))\n",
        "print('-------------------------------\\n')\n",
        "print('Заказы клиента с id 1491889')\n",
        "display(orders_by_client_1491889.head(3))"
      ],
      "metadata": {
        "id": "GaWwHtzzNzoZ"
      },
      "execution_count": null,
      "outputs": []
    },
    {
      "cell_type": "code",
      "source": [
        "info_orders_top_3_clients.to_csv('info_orders_top_3_clients.csv')"
      ],
      "metadata": {
        "id": "Lvuwg58S8RFY"
      },
      "execution_count": null,
      "outputs": []
    },
    {
      "cell_type": "code",
      "source": [
        "# Вопрос: каковы даты заказов топ-3 клиентов\n",
        "info_orders_top_3_clients['year'] = info_orders_top_3_clients['order_date'].dt.year\n",
        "info_orders_top_3_clients['month'] = info_orders_top_3_clients['order_date'].dt.month\n",
        "info_orders_top_3_clients['day'] = info_orders_top_3_clients['order_date'].dt.day\n",
        "\n",
        "info_orders_by_top_3_clients_short = info_orders_top_3_clients[['year', 'day', 'month']]\n",
        "info_orders_by_top_3_clients_short_pivot = pd.pivot_table(info_orders_by_top_3_clients_short, index=['user_id', 'year', 'month', 'day'])\n",
        "\n",
        "print(\"Сведения о заказах топ-3 клиентов\\n\")\n",
        "display(info_orders_by_top_3_clients_short_pivot)"
      ],
      "metadata": {
        "id": "_nL1OGCNNaeB"
      },
      "execution_count": null,
      "outputs": []
    },
    {
      "cell_type": "code",
      "source": [
        "# # График распределения заказов топ-3-клиентов во времени\n",
        "# plt.plot(data=info_orders_by_top_3_clients_short_pivot)\n",
        "# plt.show()"
      ],
      "metadata": {
        "id": "sFv_mHjGj2gr"
      },
      "execution_count": null,
      "outputs": []
    },
    {
      "cell_type": "code",
      "source": [
        "info_orders_by_top_3_clients_short_pivot.to_csv('info_orders_by_top_3_clients_short_pivot.csv')"
      ],
      "metadata": {
        "id": "vjNbWJE3b1_h"
      },
      "execution_count": null,
      "outputs": []
    },
    {
      "cell_type": "code",
      "source": [
        "# Загружаю датасет order_lines\n",
        "from google.colab import files\n",
        "files.upload()"
      ],
      "metadata": {
        "id": "BDwCHdYnH18Z"
      },
      "execution_count": null,
      "outputs": []
    },
    {
      "cell_type": "code",
      "source": [
        "order_lines_path = '/content/order_lines.csv'\n",
        "order_lines = pd.read_csv(order_lines_path, sep=';')\n",
        "\n",
        "print('Сведения о заказах клиентов за все время')\n",
        "display(order_lines.iloc[:12])"
      ],
      "metadata": {
        "id": "tN2oKq650Vqv"
      },
      "execution_count": null,
      "outputs": []
    },
    {
      "cell_type": "code",
      "source": [
        "# Фильтрую таблицу order_lines по идентификатору заказа [order_id]\n",
        "\n",
        "# orders_by_client_197929 # заказы клиентов с clients_id = 197929\n",
        "# orders_by_client_1498904 # заказы клиентов с clients_id = 1498904\n",
        "# orders_by_client_1491889 # заказы клиентов с clients_id = 1491889\n",
        "\n",
        "\n",
        "\n",
        "list_orders_id_by_client_197929 = list(orders_by_client_197929.order_id.values)\n",
        "baskets_by_client_197929 = order_lines[order_lines['order_id'].isin(list_orders_id_by_client_197929)]\n",
        "\n",
        "print('Сведения о составе заказа клиента с user_id = 1491889\\n')\n",
        "display(baskets_by_client_197929.head(3))\n",
        "print('---------------------------------------------')\n",
        "\n",
        "list_orders_id_by_client_1491889 = list(orders_by_client_1491889.order_id.values)\n",
        "baskets_by_client_1491889 = order_lines[order_lines['order_id'].isin(list_orders_id_by_client_1491889)]\n",
        "\n",
        "print('Сведения о составе заказа клиента с user_id = 1491889\\n')\n",
        "display(baskets_by_client_1491889.head(3))\n",
        "print('---------------------------------------------')\n",
        "\n",
        "list_orders_id_by_client_1498904 = list(orders_by_client_1498904.order_id.values)\n",
        "baskets_by_client_1498904 = order_lines[order_lines['order_id'].isin(list_orders_id_by_client_1498904)]\n",
        "\n",
        "print('Сведения о составе заказа клиента с user_id = 1498904\\n')\n",
        "display(baskets_by_client_1498904.head(3))"
      ],
      "metadata": {
        "id": "dbKhOeGkTe3i"
      },
      "execution_count": null,
      "outputs": []
    },
    {
      "cell_type": "markdown",
      "source": [
        "+ График трендов заказов: линейный график для отображения кол-ва заказов по времени\n",
        "+ Карта: карта с раположением городов и складов, показывающая кол-во заказов в каждом городе\n",
        "+ Диаграмма распредления заказов по складам: гистограмма, показывающая кол-во заказов по каждому складу\n",
        "+ Показатель активности пользователей: карта/ диаграмма, показывающая количество уникальныз пользователей в разных городаъ или на разных складах\n",
        "+ Ключевые метрики на дашборде: KPI с текущим количеством заказов, уникальных пользователей, срежним количеством заказов на пользователя."
      ],
      "metadata": {
        "id": "60pz_LFickno"
      }
    },
    {
      "cell_type": "markdown",
      "source": [
        "# task 2/3"
      ],
      "metadata": {
        "id": "2UqkMI8mcS7F"
      }
    },
    {
      "cell_type": "markdown",
      "source": [
        "----------\n",
        "2 задание\n",
        "----------\n",
        "\n",
        "Выгрузить список user_id тех пользователей,\n",
        "кто купил за период 1-15 августа 2 любых корма для животных, кроме \"Корм Kitekat для кошек, с кроликом в соусе, 85 г\".\n",
        "Отправить файл .xls\n",
        "\n"
      ],
      "metadata": {
        "id": "089NW91wST7y"
      }
    },
    {
      "cell_type": "code",
      "source": [
        "import pandas as pd"
      ],
      "metadata": {
        "id": "qJJujMNkWujt"
      },
      "execution_count": null,
      "outputs": []
    },
    {
      "cell_type": "code",
      "source": [
        "from  google.colab import drive\n",
        "drive.mount('/content/drive')"
      ],
      "metadata": {
        "id": "jEKqccrFTAej"
      },
      "execution_count": null,
      "outputs": []
    },
    {
      "cell_type": "code",
      "source": [
        "ord_lines_path = '/content/drive/MyDrive/Technical Interview/Samokat Tech Data Analytics: Jun.Grade/datasets/order_lines.csv'\n",
        "\n",
        "order_lines = pd.read_csv(ord_lines_path, sep=';')\n",
        "display(order_lines)\n",
        "# order_lines.info()"
      ],
      "metadata": {
        "id": "c4rUjuHfWZn_"
      },
      "execution_count": null,
      "outputs": []
    },
    {
      "cell_type": "code",
      "source": [
        "order_lines['order_id'] = order_lines['order_id'].astype(str)\n",
        "order_lines.info()"
      ],
      "metadata": {
        "id": "Avw-OwrKY3gk"
      },
      "execution_count": null,
      "outputs": []
    },
    {
      "cell_type": "markdown",
      "source": [
        "----------\n",
        "3 задание\n",
        "----------\n",
        "\n",
        "Напиши SQL запрос к воображаемой БД, которая имеет структуру как у тебя получилось в 1 задании в Power BI.\n",
        "Т.е. те же 4 таблицы, те же ключи и те же поля.\n",
        "Запрос должен вернуть топ 5 самых часто встречающихся товаров в первых заказах пользователей в СПб за период 15-30 августа.\n",
        "\n",
        "--\n",
        "После того как сделаешь - отправляй на почту HR.\n",
        "\n",
        "Удачи :)"
      ],
      "metadata": {
        "id": "wUiufQhL8Tdu"
      }
    }
  ]
}