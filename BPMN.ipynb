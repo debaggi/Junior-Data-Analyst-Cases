{
  "nbformat": 4,
  "nbformat_minor": 0,
  "metadata": {
    "colab": {
      "private_outputs": true,
      "provenance": [],
      "mount_file_id": "1pltwHFt1uhsG_aQ3ZbT5vNKmx9M7o6ER",
      "authorship_tag": "ABX9TyNF18Prv7q6bG3Pim4BLtdn",
      "include_colab_link": true
    },
    "kernelspec": {
      "name": "python3",
      "display_name": "Python 3"
    },
    "language_info": {
      "name": "python"
    }
  },
  "cells": [
    {
      "cell_type": "markdown",
      "metadata": {
        "id": "view-in-github",
        "colab_type": "text"
      },
      "source": [
        "<a href=\"https://colab.research.google.com/github/debaggi/Junior-Data-Analyst-Cases/blob/main/BPMN.ipynb\" target=\"_parent\"><img src=\"https://colab.research.google.com/assets/colab-badge.svg\" alt=\"Open In Colab\"/></a>"
      ]
    },
    {
      "cell_type": "code",
      "source": [
        "pip install graphviz"
      ],
      "metadata": {
        "id": "Y_n1vzl7WbRK"
      },
      "execution_count": null,
      "outputs": []
    },
    {
      "cell_type": "code",
      "source": [
        "import matplotlib.pyplot as plt\n",
        "from graphviz import Digraph"
      ],
      "metadata": {
        "id": "ARxeD631WYFQ"
      },
      "execution_count": null,
      "outputs": []
    },
    {
      "cell_type": "markdown",
      "source": [
        "Диаграмма \"Вовлечение\""
      ],
      "metadata": {
        "id": "cbXNxq1vXdtW"
      }
    },
    {
      "cell_type": "code",
      "execution_count": null,
      "metadata": {
        "id": "RzLR-uwnWQEV"
      },
      "outputs": [],
      "source": [
        "# Создание BPMN-диаграммы для этапа \"Вовлечение\"\n",
        "def draw_bpmn_engagement():\n",
        "    dot = Digraph('Engagement', format='png')\n",
        "    dot.attr(rankdir='LR')\n",
        "\n",
        "    # Начальное событие\n",
        "    dot.node('A', 'Клиент видит рекламу', shape='circle')\n",
        "\n",
        "    # Действие\n",
        "    dot.node('B', 'Переход на маркетплейс', shape='rect')\n",
        "\n",
        "    # Конечное событие\n",
        "    dot.node('C', 'Клиент на сайте', shape='circle', style='bold')\n",
        "\n",
        "    # Потоки\n",
        "    dot.edge('A', 'B')\n",
        "    dot.edge('B', 'C')\n",
        "\n",
        "    return dot\n",
        "\n",
        "# Визуализируем диаграмму\n",
        "bpmn_engagement = draw_bpmn_engagement()\n",
        "bpmn_engagement.render('/mnt/data/bpmn_engagement')\n",
        "'/mnt/data/bpmn_engagement.png'\n"
      ]
    },
    {
      "cell_type": "markdown",
      "source": [
        "Диаграмма \"Интерес\""
      ],
      "metadata": {
        "id": "FECYtfJuXi-G"
      }
    },
    {
      "cell_type": "code",
      "source": [
        "def draw_bpmn_interest():\n",
        "  dot = Digraph('Interest', format='png')\n",
        "  dot.attr(rankdir='LR')\n",
        "\n",
        "  dot.node('A', 'Клиент на сайте', shape='circle')\n",
        "\n",
        "  dot.node('B', 'Просмотр категорий', shape='rect')\n",
        "  dot.node('C', 'Фильтрация товаров',shape='rect')\n",
        "\n",
        "  dot.node('D', 'Клиент выбрл товары для сравнения', shape='circle', style='bold')\n",
        "\n",
        "  dot.edge('A', 'B')\n",
        "  dot.edge('B', 'C')\n",
        "  dot.edge('C', 'D')\n",
        "\n",
        "  return dot\n",
        "\n",
        "\n",
        "bpmn_interest = draw_bpmn_interest()\n",
        "bpmn_interest.render('/mnt/data/bpmn/bpmn_interest')\n"
      ],
      "metadata": {
        "id": "jjWkTZNiW9El"
      },
      "execution_count": null,
      "outputs": []
    },
    {
      "cell_type": "markdown",
      "source": [
        "Диаграмма \"Рассмотрение\""
      ],
      "metadata": {
        "id": "BfPDsQMobbSn"
      }
    },
    {
      "cell_type": "code",
      "source": [
        "def draw_bpmn_consideration():\n",
        "\n",
        "  dot = Digraph('consideration', format='png')\n",
        "  dot.attr(rankdir='LR')\n",
        "\n",
        "  dot.node('A', 'Клиент выбрал несколько товаров', shape='circle')\n",
        "  dot.node('B', 'Сравнение характеристик', shape='rect')\n",
        "  dot.node('C', 'Чтение отзывов', shape='rect')\n",
        "  dot.node('D', 'Выбрал ли клиент товар', shape='rhomb')\n",
        "  dot.node('E', 'Товар добавлен в корзину', shape='circle', style='bold')\n",
        "  dot.node('F', 'Клиент ушел с сайта', shape='circle', style='bold')\n",
        "\n",
        "  dot.edge('A', 'B')\n",
        "  dot.edge('B', 'C')\n",
        "  dot.edge('C', 'D')\n",
        "  dot.edge('D', 'E', label='Да')\n",
        "  dot.edge('D', 'F', label='Нет')\n",
        "\n",
        "  return dot\n",
        "\n",
        "bpmn_consideration = draw_bpmn_consideration()\n",
        "bpmn_consideration.render('/mnt/data/bpmn/bpmn_consideration')"
      ],
      "metadata": {
        "id": "8O2zvWZxbZO0"
      },
      "execution_count": null,
      "outputs": []
    },
    {
      "cell_type": "code",
      "source": [
        "def draw_bpmn_purchases():\n",
        "  dot = Digraph('Purchase', format='png')\n",
        "  dot.attr(rankdir='LR')\n",
        "\n",
        "  dot.node('A', 'Товар в корзине', shape='circle')\n",
        "  dot.node('B', 'Оформление заказа', shape='rect')\n",
        "  dot.node('C', 'Выбор способа доставки', shape='rect')\n",
        "  dot.node('D', 'Оплата', shape='rect')\n",
        "  dot.node('E', 'Успешная оплата?', shape='rhomb')\n",
        "  dot.node('F', 'Повторная покупка', shape='circle', style='bold')\n",
        "  dot.node('G', 'Конец взаимодействия', shape='circle', style='bold')\n",
        "\n",
        "\n",
        "  dot.edge('A','B')\n",
        "  dot.edge('B','C')\n",
        "  dot.edge('C','D')\n",
        "  dot.edge('D','E')\n",
        "  dot.edge('E','F', label='Да')\n",
        "  dot.edge('E','G', label='Нет')\n",
        "\n",
        "  return dot\n",
        "\n",
        "bpmn_purchases = draw_bpmn_purchases()\n",
        "bpmn_purchases.render('/mnt/data/bpmn/bpmn_purchases')"
      ],
      "metadata": {
        "id": "ipfw67aHgi5D"
      },
      "execution_count": null,
      "outputs": []
    },
    {
      "cell_type": "markdown",
      "source": [
        "**Акторы**\n",
        "\n",
        "* Стейкхолдер: Stakeholder\n",
        "* Системный аналитик: SA\n",
        "* Бизнес-аналитик: BA\n",
        "* Программист: Dev\n",
        "* Дизайнер: Designer\n",
        "* Маркетолог: Marketer\n",
        "* Проджект менеджер: PM"
      ],
      "metadata": {
        "id": "fhMDBvbujGkJ"
      }
    },
    {
      "cell_type": "markdown",
      "source": [
        "**Описание процесса**\n",
        "\n",
        "\n",
        "1. Сбор требований\n",
        "2. Проектирование\n",
        "3. Разработка\n",
        "4. Тестирование\n",
        "5. Запусе и маркетинг\n",
        "6. Поддержка и улучшение"
      ],
      "metadata": {
        "id": "S3Upz6A_jkUr"
      }
    },
    {
      "cell_type": "code",
      "source": [
        "def draw_bpmn_mobile_development():\n",
        "  dot = Digraph('Mobile Development', format='png')\n",
        "  dot.attr(rankdir='TB')\n",
        "\n",
        "  dot.attr('node', shape='rect', style='filled', fillcolor='lightgrey', width='2')\n",
        "\n",
        "# Акторы\n",
        "  dot.node('BA', 'Бизнес-аналитик')\n",
        "  dot.node('SA', 'Системный аналитик')\n",
        "  dot.node('Dev', 'Программист')\n",
        "  dot.node('Designer', 'Дизайнер')\n",
        "  dot.node('Marketer', 'Маркетолог')\n",
        "  dot.node('PM', 'Проджект менеджер')\n",
        "  dot.node('Stakeholder', 'Стейкхолдер')\n",
        "\n",
        "\n",
        "# События и действия\n",
        "  dot.attr('node', shape='circle', style='filled', fillcolor='white')\n",
        "  dot.node('Start', 'Инициация проекта')\n",
        "\n",
        "  dot.node('Gather_Requirements', '')\n",
        "  dot.node('Development', '')\n",
        "  dot.node('Testing', '')\n",
        "  dot.node('Deploy and Marketing', '')\n",
        "  dot.node('Support')\n",
        "\n",
        "\n",
        "# Условия\n",
        "  dot.attr('node', shape='diamond', style='filled', follcolor='lightblue')\n",
        "  dot.node('Req_Approval', 'Требования утверждены')\n",
        "  dot.node('Design_Approval' ,'Проектирование завершено?')\n",
        "  dot.node('Testing_Approval', 'Тестирование пройдено успешно')\n",
        "\n",
        "# Конечное событие\n",
        "  dot.attr('node', shape='doublecircle', style='filled', fillcolor='lightgreen')\n",
        "  dot.node('End', 'Проект завершен')\n",
        "\n",
        "\n",
        "  # Потоки\n",
        "  dot.edge('Start', 'Gather_Requirements')\n",
        "  dot.edge('Gather_Requirements', 'Req_Approval')\n",
        "  dot.edge('Req_Approval','Design', label='Yes')\n",
        "  dot.edge('Design', 'Design_Approval')\n",
        "  dot.edge('Design_Approval', 'Development', label='Yes')\n",
        "  dot.edge('Development', 'Testing')\n",
        "  dot.edge('Testing', 'Testing_Approval')\n",
        "  dot.edge('Testing_Approval', 'Launch', label='Yes')\n",
        "  dot.edge('Deploy and Marketing', 'Support')\n",
        "  dot.edge('Support', 'End')\n",
        "\n",
        "\n",
        "  # Условия возврата\n",
        "  dot.edge('Req_Approval', 'Gather_Requirements', label='No', style='dashed', colorblue='blue')\n",
        "  dot.edge('Design_Approval', 'Design', label='No', style='dashed', colorstyle='blue')\n",
        "  dot.edge('Testing_Approval', 'Development', style='dashed', colorstyle='blue')\n",
        "\n",
        "  return dot\n",
        "\n",
        "bpmn_mobile_development_diagram = draw_bpmn_mobile_development()\n",
        "bpmn_mobile_development_diagram.render('/mnt/data/bpmn/mobile_development_process_diagram')\n",
        "\n",
        "\n",
        "\n"
      ],
      "metadata": {
        "id": "pd_0lqssjGK5"
      },
      "execution_count": null,
      "outputs": []
    }
  ]
}