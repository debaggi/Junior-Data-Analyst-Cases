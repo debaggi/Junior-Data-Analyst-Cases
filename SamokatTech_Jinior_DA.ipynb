{
  "nbformat": 4,
  "nbformat_minor": 0,
  "metadata": {
    "colab": {
      "private_outputs": true,
      "provenance": [],
      "authorship_tag": "ABX9TyNqqeuloYQalwAZ4Xwy6439",
      "include_colab_link": true
    },
    "kernelspec": {
      "name": "python3",
      "display_name": "Python 3"
    },
    "language_info": {
      "name": "python"
    }
  },
  "cells": [
    {
      "cell_type": "markdown",
      "metadata": {
        "id": "view-in-github",
        "colab_type": "text"
      },
      "source": [
        "<a href=\"https://colab.research.google.com/github/debaggi/Junior-Data-Analyst-Cases/blob/main/SamokatTech_Jinior_DA.ipynb\" target=\"_parent\"><img src=\"https://colab.research.google.com/assets/colab-badge.svg\" alt=\"Open In Colab\"/></a>"
      ]
    },
    {
      "cell_type": "markdown",
      "source": [
        "Привет!\n",
        "\n",
        "Всего 3 задания\n",
        "\n",
        "----------\n",
        "1 задание\n",
        "----------\n",
        "\n",
        "Нужно на основе приложенных выгрузок сделать отчет в Power BI и отправить файл .pbix\n",
        "(если файл не влезает в почту - положи его на гугл диск и пошарить ссылкой)\n",
        "Обратно слать выгрузки не нужно.\n",
        "\n",
        "Требования к отчету - представь, что это все данные, которые вообще есть и ты делаешь первый в компании отчет.\n",
        "Твоя задача выжать из этих выгрузок максимум пользы.\n",
        "Какие показатели посчитать, какие визуализации выбрать и как организовать отчет - твой выбор.\n",
        "\n",
        "Выгрузки:\n",
        "- warehouses\n",
        "- products\n",
        "- orders\n",
        "- order_lines\n",
        "\n",
        "В выгрузках рандомные данные, но стоит воспринимать их как фактические.\n",
        "Всю обработку нужно делать внутри Power BI - исходные файлы оставь как есть.\n",
        "\n",
        "Бонус:\n",
        "Если найдешь что-то интересное (аномалии, тренды, зависимости, etc.) - оформи свои мысли в ворде,\n",
        "сопроводив скринами визуализаций из Power BI и отправь файл .docx\n",
        "Если хочется сделать в формате презентации или описать внутри Power BI - тоже гуд.\n",
        "\n",
        "----------\n",
        "2 задание\n",
        "----------\n",
        "\n",
        "Выгрузить список user_id тех пользователей,\n",
        "кто купил за период 1-15 августа 2 любых корма для животных, кроме \"Корм Kitekat для кошек, с кроликом в соусе, 85 г\".\n",
        "Отправить файл .xls\n",
        "\n",
        "----------\n",
        "3 задание\n",
        "----------\n",
        "\n",
        "Напиши SQL запрос к воображаемой БД, которая имеет структуру как у тебя получилось в 1 задании в Power BI.\n",
        "Т.е. те же 4 таблицы, те же ключи и те же поля.\n",
        "Запрос должен вернуть топ 5 самых часто встречающихся товаров в первых заказах пользователей в СПб за период 15-30 августа.\n",
        "\n",
        "--\n",
        "После того как сделаешь - отправляй на почту HR.\n",
        "\n",
        "Удачи :)"
      ],
      "metadata": {
        "id": "3IeylohRgmTV"
      }
    },
    {
      "cell_type": "markdown",
      "source": [
        "https://pavelbukhtik.notion.site/21d3e6b006284d189514e517d74fa369"
      ],
      "metadata": {
        "id": "cO4uyJveladQ"
      }
    },
    {
      "cell_type": "code",
      "execution_count": null,
      "metadata": {
        "id": "ksTSIqL5ghPu"
      },
      "outputs": [],
      "source": [
        "import pandas as pd"
      ]
    },
    {
      "cell_type": "code",
      "source": [
        "from  google.colab import drive\n",
        "drive.mount('/content/drive')"
      ],
      "metadata": {
        "id": "BPK03goigtYM"
      },
      "execution_count": null,
      "outputs": []
    },
    {
      "cell_type": "code",
      "source": [
        "path_dir = '/content/content/MyDrive/Technical Interview/Samokat Tech Data Analytics: Jun.Grade/'\n",
        "path_files = ['/content/drive/MyDrive/Technical Interview/Samokat Tech Data Analytics: Jun.Grade/orders.csv', '/content/drive/MyDrive/Technical Interview/Samokat Tech Data Analytics: Jun.Grade/products.csv', '/content/drive/MyDrive/Technical Interview/Samokat Tech Data Analytics: Jun.Grade/warehouses.csv', '/content/drive/MyDrive/Technical Interview/Samokat Tech Data Analytics: Jun.Grade/order_lines.txt']\n",
        "\n",
        "orders = pd.read_csv(path_files[0])\n",
        "orders = orders.set_index('warehouse_id')\n",
        "\n",
        "warehouses = pd.read_csv(path_files[2])\n",
        "\n",
        "display(orders.head(3))\n",
        "display(warehouses.head(3))"
      ],
      "metadata": {
        "id": "tNNcc7fJpELF"
      },
      "execution_count": null,
      "outputs": []
    },
    {
      "cell_type": "markdown",
      "source": [
        "Цели:\n",
        "<!-- клиенты -->\n",
        "- определить количество заказов по каждому даркстору\n",
        "- определить топ-3 id клиентов, которые наиболее часто осущесвляют заказы\n",
        "<!-- дарксторы -->\n",
        "- определить наиболее и наименее часто используемые дарксторы\n",
        "- определить города, в которых расположены дарксторы из топ-3 дарксторов\n"
      ],
      "metadata": {
        "id": "bNZER5kJ4qYE"
      }
    },
    {
      "cell_type": "code",
      "source": [
        "# Внутреннее соединение таблицы orders и таблицы warehouses по атрибуту wirehouse_id\n",
        "warehouses_orders = pd.merge(orders, warehouses, on='warehouse_id', how='inner')\n",
        "warehouses_orders['order_date'] = pd.to_datetime(warehouses_orders['order_date'])\n",
        "\n",
        "print('Сгруппированная таблица заказов и таблица дарксторов по атрибуту wirehouse_id\\n')\n",
        "warehouses_orders.sort_values('warehouse_id').head(3)"
      ],
      "metadata": {
        "id": "MN76H2I-4nvD"
      },
      "execution_count": null,
      "outputs": []
    },
    {
      "cell_type": "code",
      "source": [
        "# записываю в csv-файл полученную таблицу\n",
        "warehouses_orders.to_csv('warehouses_orders.csv')"
      ],
      "metadata": {
        "id": "5crACn59-DWt"
      },
      "execution_count": null,
      "outputs": []
    },
    {
      "cell_type": "code",
      "source": [
        "# warehouses_orders = pd.read_csv('warehouses_orders.csv')"
      ],
      "metadata": {
        "id": "BKPk3MUm--7d"
      },
      "execution_count": null,
      "outputs": []
    },
    {
      "cell_type": "code",
      "source": [
        "#таблица warehouses_orders сгруппирована атрибуту warehose_id и отсортирована по убыванию параметра count_orders\n",
        "warehouses_orders_grouped = warehouses_orders.groupby(['warehouse_id'])[['order_id']].agg('count').rename(columns={'order_id': 'count_orders'}).sort_values('count_orders', ascending=False)\n",
        "warehouses_orders_grouped.iloc[:3]"
      ],
      "metadata": {
        "id": "l08oE7O27AXP"
      },
      "execution_count": null,
      "outputs": []
    },
    {
      "cell_type": "markdown",
      "source": [
        "### Анализ дарксторов"
      ],
      "metadata": {
        "id": "fgjksvslLPLe"
      }
    },
    {
      "cell_type": "code",
      "source": [
        "import seaborn as sns\n",
        "import matplotlib.pyplot as plt\n",
        "\n",
        "fig, ax = plt.subplots(nrows=1, ncols=1, figsize=(15, 4))\n",
        "sns.lineplot(y='count_orders', x='warehouse_id', data=warehouses_orders_grouped, marker='.', markersize=15/2, color='green', alpha=.6)\n",
        "plt.title('The numbers of orders in the context of darkstores', font='Monospace')\n",
        "plt.xticks(font='Monospace')\n",
        "plt.yticks(font='Monospace');"
      ],
      "metadata": {
        "id": "uKL-AbtNF8H5"
      },
      "execution_count": null,
      "outputs": []
    },
    {
      "cell_type": "code",
      "source": [
        "# вычисление суммарного числа заказов в разрезе дарксторов\n",
        "warehouses_top_3_max = list(warehouses_orders_grouped.iloc[:3].index.values) # топ-3-winners дарксторов по числу заказов\n",
        "warehouses_top_3_min = list(warehouses_orders_grouped.iloc[-3:].index.values) # топ-3-losers дарксторов по числу заказов\n",
        "\n",
        "# вычисление суммарного числа заказов по всем дарксторам за все время\n",
        "total_sum_purchases = warehouses_orders['order_id'].count()\n",
        "\n",
        "# процент заказов, который приходится на даркстор\n",
        "warehouses_orders_grouped['percentage_orders'] = round(warehouses_orders_grouped['count_orders']/total_sum_purchases * 100, 2)\n",
        "warehouses_orders_grouped.to_excel('warehouses_orders.xlsx', sheet_name='warehouses_orders_grouped')\n",
        "\n",
        "\n",
        "print(f'Суммарное количество заказов по всем дарксторам сети за все время: {total_sum_purchases}')\n",
        "print('\\n')\n",
        "print('----------------------------------------------------')\n",
        "print(f'Дарксторы с максимальным числом заказов: {warehouses_top_3_max}')\n",
        "print(display(warehouses_orders_grouped.head(3)))\n",
        "print('\\n')\n",
        "print('----------------------------------------------------')\n",
        "print(f'Дарксторы с минимальным числом заказов: {warehouses_top_3_min}')\n",
        "print(display(warehouses_orders_grouped.iloc[-3:].head(3)))\n",
        "print('----------------------------------------------------')"
      ],
      "metadata": {
        "id": "PWYnJtZzF12G"
      },
      "execution_count": null,
      "outputs": []
    },
    {
      "cell_type": "code",
      "source": [
        "# информация о топ-3 дарксторах по числу заказов за все время\n",
        "info_warehouses_top_3_max = warehouses[warehouses['warehouse_id'].isin(warehouses_top_3_max)]\n",
        "display(info_warehouses_top_3_max.set_index('warehouse_id'))\n",
        "print('\\n')\n",
        "info_warehouses_top_3_min = warehouses[warehouses['warehouse_id'].isin(warehouses_top_3_min)]\n",
        "display(info_warehouses_top_3_min.set_index('warehouse_id'))"
      ],
      "metadata": {
        "id": "Dy6dCSb0BI7j"
      },
      "execution_count": null,
      "outputs": []
    },
    {
      "cell_type": "markdown",
      "source": [
        "### Анализ клиентов"
      ],
      "metadata": {
        "id": "Kn4ANJYyLWHM"
      }
    },
    {
      "cell_type": "code",
      "source": [
        "# информация о топ-3 покупателях по числу заказов за все время\n",
        "top_3_clients = pd.DataFrame(warehouses_orders.groupby('user_id')['order_id'].agg('count')).rename(columns={'order_id':'count_orders'})\n",
        "top_3_clients_sorted = top_3_clients.sort_values('count_orders', ascending=False)\n",
        "list_top_3_clients_id = list(top_3_clients_sorted.index[:3].values)\n",
        "\n",
        "print(f'Клиенты, входящие к категорию топ-3 клиентов по числу заказов за все время: {list_top_3_clients_id}')"
      ],
      "metadata": {
        "id": "k7N3G4pK592L"
      },
      "execution_count": null,
      "outputs": []
    },
    {
      "cell_type": "code",
      "source": [
        "# получить из таблицы users данные о  топ-3-клиентах\n",
        "# users"
      ],
      "metadata": {
        "id": "DXS3wymkMRjW"
      },
      "execution_count": null,
      "outputs": []
    },
    {
      "cell_type": "code",
      "source": [
        "# фильтрация таблицы warehouses_orders по атрибуту user_id\n",
        "info_orders_by_top_3_clients = warehouses_orders[warehouses_orders['user_id'].isin(list_top_3_clients_id)][['user_id', 'order_date', 'warehouse_id']].set_index('user_id')\n",
        "display(info_orders_by_top_3_clients.sort_values('order_date'))"
      ],
      "metadata": {
        "id": "liLuLTp27pTq"
      },
      "execution_count": null,
      "outputs": []
    },
    {
      "cell_type": "code",
      "source": [
        "# Вопрос: каковы даты заказов топ-3 клиентов\n",
        "\n",
        "info_orders_by_top_3_clients['year'] = info_orders_by_top_3_clients['order_date'].dt.year\n",
        "info_orders_by_top_3_clients['month'] = info_orders_by_top_3_clients['order_date'].dt.month\n",
        "info_orders_by_top_3_clients['day'] = info_orders_by_top_3_clients['order_date'].dt.day\n",
        "\n",
        "info_orders_by_top_3_clients_short = info_orders_by_top_3_clients[['year', 'day', 'month', 'warehouse_id']]\n",
        "info_orders_by_top_3_clients_short_pivot = pd.pivot_table(info_orders_by_top_3_clients_short, index=['user_id', 'year', 'month', 'day', 'warehouse_id'])\n",
        "\n",
        "print(f'Сводная таблица \"Сведения о заказах топ-3 клиентов\" \\n{display(info_orders_by_top_3_clients_short_pivot)}')"
      ],
      "metadata": {
        "id": "_nL1OGCNNaeB"
      },
      "execution_count": null,
      "outputs": []
    },
    {
      "cell_type": "code",
      "source": [
        "info_orders_by_top_3_clients_short_pivot.to_csv('info_orders_by_top_3_clients_short_pivot.csv')"
      ],
      "metadata": {
        "id": "vjNbWJE3b1_h"
      },
      "execution_count": null,
      "outputs": []
    },
    {
      "cell_type": "markdown",
      "source": [
        "## Dashboard"
      ],
      "metadata": {
        "id": "yWo0njWZ56X3"
      }
    },
    {
      "cell_type": "code",
      "source": [
        "import matplotlib.pyplot as plt\n",
        "import seaborn as sns"
      ],
      "metadata": {
        "id": "f7V5tBXq1NNx"
      },
      "execution_count": null,
      "outputs": []
    },
    {
      "cell_type": "code",
      "source": [
        "# График распределения процентов заказов в разрезе дарксторов\n",
        "fig, ax = plt.subplots(figsize=(21, 7), nrows=2, ncols=2)\n",
        "ax[0,0].set_title('top-3 warehouses')\n",
        "sns.barplot(x='warehouse_id', y='percentage_orders', data=warehouses_orders_grouped.head(3), color='green', alpha=0.6, ax=ax[0,0])"
      ],
      "metadata": {
        "id": "nWd8LQwi092Q"
      },
      "execution_count": null,
      "outputs": []
    },
    {
      "cell_type": "markdown",
      "source": [
        "### Перекодировка файла с данными"
      ],
      "metadata": {
        "id": "t4bZejjzzlE2"
      }
    },
    {
      "cell_type": "code",
      "source": [
        "import chardet"
      ],
      "metadata": {
        "id": "1OX-tUUZzpZp"
      },
      "execution_count": null,
      "outputs": []
    },
    {
      "cell_type": "code",
      "source": [
        "with open(path_files[1], 'rb') as raw_file:\n",
        "  output_file = chardet.detect(raw_file.read(10000))\n",
        "  encoding = output_file['encoding']\n",
        "\n",
        "with open(path_files[1], 'r', encoding=encoding) as dataset:\n",
        "  products_content = dataset.read()"
      ],
      "metadata": {
        "id": "8nQsK_c7zrL-"
      },
      "execution_count": null,
      "outputs": []
    }
  ]
}