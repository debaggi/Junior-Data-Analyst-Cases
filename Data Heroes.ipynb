{
  "nbformat": 4,
  "nbformat_minor": 0,
  "metadata": {
    "colab": {
      "private_outputs": true,
      "provenance": []
    },
    "kernelspec": {
      "name": "python3",
      "display_name": "Python 3"
    },
    "language_info": {
      "name": "python"
    }
  },
  "cells": [
    {
      "cell_type": "markdown",
      "source": [
        "numpy, scipy, statsmodels, pychart;"
      ],
      "metadata": {
        "id": "y_Xk0mniVGvQ"
      }
    },
    {
      "cell_type": "code",
      "execution_count": null,
      "metadata": {
        "id": "k5FiObMp1OhD"
      },
      "outputs": [],
      "source": [
        "import pandas as pd"
      ]
    },
    {
      "cell_type": "code",
      "source": [
        "# from google.colab import drive\n",
        "# drive.mount('/content/drive')\n",
        "\n",
        "# path = '/content/Data Heroes Analyst.csv'"
      ],
      "metadata": {
        "id": "HhiM8EQl1Tur"
      },
      "execution_count": null,
      "outputs": []
    },
    {
      "cell_type": "code",
      "source": [
        "from google.colab import files\n",
        "files.upload()"
      ],
      "metadata": {
        "id": "WNxMVuf-2J6I"
      },
      "execution_count": null,
      "outputs": []
    },
    {
      "cell_type": "code",
      "source": [
        "df = pd.read_csv('/content/Data Heroes Analyst.csv')\n",
        "df = df[['event_id', 'event_date', 'customer_id', 'is_attend', 'group_ids', 'teacher_ids']]\n",
        "df.head()"
      ],
      "metadata": {
        "id": "tU-NToqRVSJm"
      },
      "execution_count": null,
      "outputs": []
    },
    {
      "cell_type": "markdown",
      "source": [
        "## Распределение посещаемости по дням/ месяца/ годам"
      ],
      "metadata": {
        "id": "apjVMKF5mLyP"
      }
    },
    {
      "cell_type": "code",
      "source": [
        "import pandas as pd"
      ],
      "metadata": {
        "id": "GE5_R1R8gieV"
      },
      "execution_count": null,
      "outputs": []
    },
    {
      "cell_type": "markdown",
      "source": [
        "запись на занятия [is_attend = 0 или is_attend = 1] по дням, неделям, годам"
      ],
      "metadata": {
        "id": "eHSyKQFZVTHj"
      }
    },
    {
      "cell_type": "code",
      "source": [
        "# сгруппирую данные по дате события\n",
        "attendance_date = pd.DataFrame(df.groupby(['event_date'])['customer_id'].count())\n",
        "attendance_date.rename(columns={'customer_id':'number_customers'}, inplace=True)\n",
        "attendance_date.sort_index()"
      ],
      "metadata": {
        "id": "sVeTAmIIVydj"
      },
      "execution_count": null,
      "outputs": []
    },
    {
      "cell_type": "code",
      "source": [
        "import numpy as np\n",
        "import matplotlib.pyplot as plt\n",
        "\n",
        "# Динамика количества записанных на занятия клиентов\n",
        "start_date = np.datetime64(df['event_date'].min())\n",
        "end_date = np.datetime64(df['event_date'].max())\n",
        "\n",
        "attendance_date.plot(kind='line', figsize=(20, 3.5), color='black', alpha=.7, marker='.', markersize=7)\n",
        "\n",
        "plt.title('Изменение количества клиентов, записанных на занятия по датам')\n",
        "\n",
        "plt.xticks(font='Monospace', fontsize=7)\n",
        "plt.xlabel('Дата занятия', font='Monospace', fontsize=9)\n",
        "plt.ylabel('Количество записанных клиентов', font='Monospace', fontsize=9)\n",
        "\n",
        "plt.yticks(np.arange(0, 20, step=4))\n",
        "\n",
        "plt.show()"
      ],
      "metadata": {
        "id": "xTdngWyZWvrh"
      },
      "execution_count": null,
      "outputs": []
    },
    {
      "cell_type": "code",
      "source": [
        "df['event_date'] = pd.to_datetime(df['event_date'])\n",
        "df['month'] = df['event_date'].dt.month\n",
        "\n",
        "month_name_dict = {5: 'май', 6:'июнь', 7:'июль'}\n",
        "df['month'] = df['month'].map(month_name_dict)\n",
        "year = 2020\n",
        "\n",
        "# Расчет кол-ва клиентов по месяца в разрезе параметра посещений is_attend = [0, 1]\n",
        "month_attend_events = df.groupby(['month'])['customer_id'].count()\n",
        "\n",
        "plt.figure(figsize=(5, 4))\n",
        "month_attend_events.plot(kind='barh', color='orange', alpha=.7, width=.2);\n",
        "\n",
        "plt.xlabel('месяц', font='Monospace',fontsize=9)\n",
        "plt.ylabel('кол-во клиентов/ месяц', font='Monospace',fontsize=9)\n",
        "plt.xticks(font='Monospace', fontsize=9), plt.yticks(font='Monospace', fontsize=9)\n",
        "plt.title(f'Гистограмма количество клиентов в разрезе месяцев за {year} год', font='Monospace', fontsize=12)\n",
        "\n",
        "month_attend_events = pd.DataFrame(month_attend_events).rename(columns={'customer_id':'number customers'})\n"
      ],
      "metadata": {
        "id": "ViB5P9e2ce2B"
      },
      "execution_count": null,
      "outputs": []
    },
    {
      "cell_type": "code",
      "source": [
        "df['event_date'] = pd.to_datetime(df['event_date'])\n",
        "df['year'] = df['event_date'].dt.year\n",
        "\n",
        "\n",
        "# Расчет кол-ва клиентов по года в разрезе параметра посещений is_attend = [0, 1]\n",
        "month_attend_events = df.groupby(['year'])['customer_id'].count()\n",
        "\n",
        "plt.figure(figsize=(6, 2))\n",
        "month_attend_events.plot(kind='barh', color='blue', alpha=.5, width=.2);\n",
        "\n",
        "plt.title('Гистограмма количества клиентов в год',font='Monospace', fontsize=12)\n",
        "plt.xlabel('месяц', font='Monospace', fontsize=9)\n",
        "plt.ylabel('кол-во клиентов/ год', font='Monospace', fontsize=9)\n",
        "plt.xticks(font='Monospace', fontsize=9), plt.yticks(font='Monospace', fontsize=9)\n",
        "month_attend_events = pd.DataFrame(month_attend_events).rename(columns={'customer_id':'number customers'})\n"
      ],
      "metadata": {
        "id": "jNcn888lk5Qp"
      },
      "execution_count": null,
      "outputs": []
    },
    {
      "cell_type": "code",
      "source": [
        "# кол-во клиентов в группах\n",
        "import matplotlib.pyplot as plt\n",
        "\n",
        "customers_group = pd.DataFrame(df.groupby(['group_ids'])['customer_id'].count())\n",
        "customers_group.rename(columns={'customer_id':'number_customers'}, inplace=True)\n",
        "\n",
        "labels = list(customers_group.index)\n",
        "values = list(customers_group['number_customers'])\n",
        "set_colors = ['#02315E', '#00457E', '#2F70AF', '#B9848C', '# 806491']\n",
        "\n",
        "\n",
        "\n",
        "plt.pie(values,labels=labels, colors=set_colors)\n",
        "plt.title('Количество клиентов в группах', font='Monospace', fontsize=12)\n",
        "plt.legend(labels)\n",
        "plt.show()\n",
        "\n",
        "customers_group"
      ],
      "metadata": {
        "id": "_2wlJsi_mVpg"
      },
      "execution_count": null,
      "outputs": []
    },
    {
      "cell_type": "markdown",
      "source": [
        "#### кол-во студентов на тичера"
      ],
      "metadata": {
        "id": "CJHVQOBEpLkL"
      }
    },
    {
      "cell_type": "code",
      "source": [
        "customers_teacher = pd.DataFrame(df.groupby(['teacher_ids'])['customer_id'].count())\n",
        "customers_teacher.rename(columns={'customer_id':'number_customers'}, inplace=True)\n",
        "\n",
        "set_colors = ['#02315E', '#00457E', '#2F70AF', '#B9848C', '#806491']\n",
        "\n",
        "labels=list(customers_teacher.index)\n",
        "values = list(customers_teacher['number_customers'])\n",
        "\n",
        "plt.pie(values, labels=labels, colors=set_colors)\n",
        "plt.title('Распределеление клиентов между тренерами', font='Monospace', fontsize=12)\n",
        "customers_teacher"
      ],
      "metadata": {
        "id": "tZuS6cqkmYrj"
      },
      "execution_count": null,
      "outputs": []
    },
    {
      "cell_type": "markdown",
      "source": [
        "#### индивидуальная посещаемость"
      ],
      "metadata": {
        "id": "1RzOUENXpr8i"
      }
    },
    {
      "cell_type": "code",
      "source": [
        "is_attend_all = df[(df['is_attend']==0) | (df['is_attend']==1)]\n",
        "# группировка  данных по customer_id\n",
        "customers_attendance_all = pd.DataFrame(is_attend_all.groupby(['customer_id'])['event_id'].agg('count'))\n",
        "# переименование расчетного параметра кол-во\n",
        "customers_attendance_all = customers_attendance_all.rename(columns={'event_id':'frequency_registrations'})\n",
        "\n",
        "\n",
        "is_attend = df[(df['is_attend']==1)]\n",
        "customers_is_attend = pd.DataFrame(is_attend.groupby('customer_id')['event_id'].agg('count')).rename(columns={'event_id':'frequency_attend'})\n",
        "\n",
        "\n",
        "df_list = [customers_is_attend, customers_attendance_all]\n",
        "\n",
        "\n",
        "df_concat = pd.concat(df_list, join='outer', axis=1)\n",
        "sorted_df_concat = df_concat.sort_values('frequency_attend', ascending=True)\n",
        "\n",
        "df_concat.plot(kind='bar', figsize=(20, 4))"
      ],
      "metadata": {
        "id": "SM2ooj60z-za"
      },
      "execution_count": null,
      "outputs": []
    },
    {
      "cell_type": "code",
      "source": [
        "df_is_attend_all = df[(df['is_attend']==1) | (df['is_attend']==0)] # фильтрация данных о записи\n",
        "\n",
        "customer_attendance_all = pd.DataFrame(df_is_attend_all.groupby(['customer_id'])['event_id'].agg('count')) # группировка  данных по customer_id\n",
        "customer_attendance_all = customer_attendance_all.rename(columns={'event_id':'frequency_attend'}) # переименование расчетного параметра кол-во посещений занятий клиентом frequency_attend\n",
        "\n",
        "customer_attendance_all = customer_attendance_all.sort_values('frequency_attend', ascending=False) # сортировка данных по убыванию значения параметра frequency_attend\n",
        "\n",
        "x_max = customer_attendance_all.index.max() # вычисление максимального значения customer_id\n",
        "\n",
        "min_freq_attend_all = customer_attendance_all['frequency_attend'].min() # вычисление минимального значения частоты посщаемости frequecny_attend\n",
        "mean_frequency_attend_all = customer_attendance_all['frequency_attend'].mean() # вычисление среднего значения посещаемости frequecny_attend\n",
        "std_frequency_attend_all = round(customer_attendance_all['frequency_attend'].std(), 2) # вычисление стандартного отклонения посещаемости frequecny_attend\n",
        "\n",
        "customer_id_low_attend_all = customer_attendance_all[customer_attendance_all['frequency_attend'] == min_freq_attend_all].index.to_list() # выборка клиентов с минимальной частотой посещений за все время\n",
        "\n",
        "# ---------------------------------------------------------------------------------------------------------------------------------------------------\n",
        "fig, ax = plt.subplots(figsize=(20,4))\n",
        "\n",
        "# построние распределения частоты записи клиентов на занятия за все время\n",
        "customer_attendance_all.plot(kind='bar', color='green', alpha=.7, ax=ax)\n",
        "plt.plot([0, x_max], [mean_frequency_attend_all, mean_frequency_attend_all], label='mean_frequency_attend', color='green', alpha=.4, linestyle='--') # построение среднего уровня посещаемости клиентами занятий за все время\n",
        "# ---------------------------------------------------------------------------------------------------------------------------------------------------\n",
        "\n",
        "plt.xlabel('customer id', font='Monospace', fontsize=9), plt.ylabel('frequency attendance', font='Monospace', fontsize=9)\n",
        "plt.title('Частота записи на занятия, частота посещений занятий клиентами', font='Monospace', fontsize=12)\n",
        "\n",
        "plt.legend(['средняя частота записи клиентов', 'частота непосещения клиентом занятий', 'частота записи клиентов на занятия'])\n",
        "\n",
        "print(f'Вывод: \\n- mean frequency attendance = {mean_frequency_attend_all}\\n- std frequency attendance = {std_frequency_attend_all}\\n\\nт.к. стандартное отклонение составляет более 80% процентов от среднего, следовательно, \\nданные о посещаемости имеют высокий уровень разбороса значений вокруг среднего.\\n\\n- Клиенты с id = {customer_id_low_attend} посещали занятия {min_freq_attend} раз')"
      ],
      "metadata": {
        "id": "Y-cEk-trmbRK"
      },
      "execution_count": null,
      "outputs": []
    },
    {
      "cell_type": "code",
      "source": [
        "customer_id_low_attend = customer_attendance_all[customer_attendance_all['frequency_attend'] == min_freq_attend_all].index.to_list() # выборка клиентов с минимальной частотой посещений за все время\n",
        "filtered_df = df[df['customer_id'].isin(customer_id_low_attend)]\n",
        "filtered_df.groupby(['year', 'month','customer_id'])['event_id'].count()"
      ],
      "metadata": {
        "id": "RIvK9IhECqFd"
      },
      "execution_count": null,
      "outputs": []
    },
    {
      "cell_type": "code",
      "source": [
        "# % пропусков (по урокам/ группам/преподавателям)\n",
        "# %"
      ],
      "metadata": {
        "id": "oja1t4tMgoEt"
      },
      "execution_count": null,
      "outputs": []
    },
    {
      "cell_type": "markdown",
      "source": [
        "#"
      ],
      "metadata": {
        "id": "Rh8CpJNTmTwZ"
      }
    },
    {
      "cell_type": "markdown",
      "source": [
        "# Обзор данных"
      ],
      "metadata": {
        "id": "WtUv9hQcYbBY"
      }
    },
    {
      "cell_type": "code",
      "source": [
        "df = pd.read_csv('/content/Data Heroes Analyst.csv')\n",
        "df.head()"
      ],
      "metadata": {
        "id": "5TymZNDK2Yqo"
      },
      "execution_count": null,
      "outputs": []
    },
    {
      "cell_type": "code",
      "source": [
        "import numpy as np\n",
        "\n",
        "# вычисляю суммарное число учеников\n",
        "total_count_customers = len(pd.unique(df['customer_id']))\n",
        "print(f'суммарное число учеников за все время: {total_count_customers}')\n",
        "\n",
        "# вычисляю суммарное число групп\n",
        "count_gpoups = len(pd.unique(df.group_ids))\n",
        "print(f'суммарное число групп за все время: {count_gpoups}')\n",
        "\n",
        "# вычисляю суммарное число преподавателей\n",
        "total_count_teachers = len(pd.unique(df.teacher_ids))\n",
        "print(f'суммарное число преподавателей за все время: {total_count_teachers}')\n"
      ],
      "metadata": {
        "id": "p2yy6YZ4N9F5"
      },
      "execution_count": null,
      "outputs": []
    },
    {
      "cell_type": "code",
      "source": [
        "df = df[df['is_attend']==1]\n",
        "grouped= df.groupby(['event_date', 'group_ids', 'event_id'])['customer_id'].agg('count')\n",
        "grouped_df = pd.DataFrame(grouped)\n",
        "\n",
        "# переименование параметра customer_id в count_customers\n",
        "grouped_df['customer_id'] = grouped_df.rename(columns={'customer_id':'count_customers'}, inplace=True)\n",
        "\n",
        "# удаление столбца customer_id\n",
        "grouped_df = grouped_df.drop(columns='customer_id')\n",
        "\n",
        "# сортировка датафрейма по параметру event_date // в порядке возрастания\n",
        "grouped_df = grouped_df.sort_values(['event_date'], ascending=True)\n",
        "\n",
        "\n",
        "# определение минимальной и максимальной дат в исследуемом датасете\n",
        "date_min = df['event_date'].min()\n",
        "date_max = df['event_date'].max()\n",
        "\n",
        "print(f'Количество учеников, которое записано на занятие в определенную группу в период с {date_min} по {date_max}\\n')\n",
        "display(grouped_df)"
      ],
      "metadata": {
        "id": "94NInbDe3gsl"
      },
      "execution_count": null,
      "outputs": []
    },
    {
      "cell_type": "code",
      "source": [
        "# добавляю в датафрейм параметр \"относительное число учеников на занятии\" // атрибут Percent Customers Per Event, %\n",
        "grouped_df['PCPE, %'] = np.round(grouped_df.count_customers.values / total_count_customers * 100, 2)\n",
        "grouped_df.sort_values('PCPE, %', ascending=False)"
      ],
      "metadata": {
        "id": "KEn6RTQ7DgXu"
      },
      "execution_count": null,
      "outputs": []
    },
    {
      "cell_type": "code",
      "source": [
        "# объединение данных по параметру group_ids\n",
        "group_customers_df = df[['customer_id', 'group_ids']]\n",
        "group_count_customers = pd.DataFrame(group_customers_df.groupby(['group_ids'])['customer_id'].agg('count'))\n",
        "group_count_customers = group_count_customers.rename(columns={'customer_id': 'count_customers'})\n",
        "\n",
        "print('Таблица \"Количество учеников в группах\"')\n",
        "\n",
        "group_count_customers.sort_values('count_customers', ascending=True)"
      ],
      "metadata": {
        "id": "tHOOHjy2DQAJ"
      },
      "execution_count": null,
      "outputs": []
    },
    {
      "cell_type": "markdown",
      "source": [
        "# Тактический дашборд"
      ],
      "metadata": {
        "id": "opko1B-oD814"
      }
    },
    {
      "cell_type": "code",
      "source": [
        "import matplotlib.pyplot as plt\n",
        "import seaborn as sns"
      ],
      "metadata": {
        "id": "7lCtPG0_7cvi"
      },
      "execution_count": null,
      "outputs": []
    },
    {
      "cell_type": "markdown",
      "source": [
        "**Графики**\n",
        "1. посещаемость по дням, неделям, месяцам\n",
        "2. посещаемость групп по дням, неделям, месяцам\n",
        "2. посещаемость преподавателей по дням, неделям, месяцам"
      ],
      "metadata": {
        "id": "ztOBQv5jOVX-"
      }
    },
    {
      "cell_type": "code",
      "source": [
        "# посещаемость день/ неделя/ месяц\n",
        "is_attended_df = df[df['is_attend']==1]\n",
        "\n",
        "\n",
        "date_is_attend_customers = pd.DataFrame(is_attended_df.groupby(['event_date'])[ 'customer_id'].count()).rename(columns={'customer_id':'number_customers'})\n",
        "\n",
        "fig = plt.figure(figsize=(20, 4))\n",
        "plt.plot(date_is_attend_customers['number_customers'], color='black', marker='.', markersize=9)\n",
        "plt.xticks(rotation=45)\n",
        "plt.xlabel('Date event', font='Monospace', fontsize=9)\n",
        "plt.ylabel('Count customers', font='Monospace', fontsize=9)\n",
        "\n",
        "plt.tight_layout(pad=2.0)\n",
        "\n",
        "date_min = df['event_date'].min()\n",
        "date_max = df['event_date'].max()\n",
        "\n",
        "plt.title(f'Динамика изменения учеников, которые присутствовали на занятиях в период с {date_min} по {date_max} ', font='Monospace')\n",
        "plt.show()"
      ],
      "metadata": {
        "id": "zTdC5JTJ8XFq"
      },
      "execution_count": null,
      "outputs": []
    },
    {
      "cell_type": "code",
      "source": [
        "date_is_attend_customers.head()"
      ],
      "metadata": {
        "id": "pEdf-pczLXM8"
      },
      "execution_count": null,
      "outputs": []
    },
    {
      "cell_type": "code",
      "source": [
        "# посещаемость день/ неделя/ месяц\n",
        "isnt_attended_df = df[df['is_attend']==0]\n",
        "\n",
        "# линейный график измнения кол-ва клиентов, которые  посетили занятия\n",
        "isnt_attend_customers = pd.DataFrame(isnt_attended_df.groupby(['event_date'])[ 'customer_id'].count()).rename(columns={'customer_id':'number_customers'})\n",
        "\n",
        "fig = plt.figure(figsize=(20, 4))\n",
        "plt.plot(isnt_attend_customers['number_customers'], color='black', marker='.', markersize=9)\n",
        "\n",
        "plt.xticks(rotation=45)\n",
        "plt.xlabel('Date event', font='Monospace', fontsize=9)\n",
        "plt.ylabel('Count customers', font='Monospace', fontsize=9)\n",
        "\n",
        "plt.tight_layout(pad=2.0)\n",
        "\n",
        "date_min = df['event_date'].min()\n",
        "date_max = df['event_date'].max()\n",
        "\n",
        "plt.title(f'Динамика изменения учеников, которые не присутствовали на занятиях в период с {date_min} по {date_max} ', font='Monospace')\n",
        "plt.show()"
      ],
      "metadata": {
        "id": "9G8p-QKqElg-"
      },
      "execution_count": null,
      "outputs": []
    },
    {
      "cell_type": "code",
      "source": [
        "isnt_attend_customers"
      ],
      "metadata": {
        "id": "3ThB59jGLs36"
      },
      "execution_count": null,
      "outputs": []
    },
    {
      "cell_type": "code",
      "source": [
        "# индивидуальная посещаемость\n",
        "df[df['is_attend']==1][['event_date', 'customer_id']]"
      ],
      "metadata": {
        "id": "KHH8XFfSf4Dd"
      },
      "execution_count": null,
      "outputs": []
    },
    {
      "cell_type": "markdown",
      "source": [
        "# Стратегический дашборд"
      ],
      "metadata": {
        "id": "T3ZgtRlNEIJk"
      }
    }
  ]
}